{
 "cells": [
  {
   "cell_type": "code",
   "execution_count": 1,
   "id": "8539c618",
   "metadata": {},
   "outputs": [],
   "source": [
    "import pandas as pd"
   ]
  },
  {
   "cell_type": "code",
   "execution_count": 33,
   "id": "82c1eaa0",
   "metadata": {},
   "outputs": [],
   "source": [
    "df = pd.read_csv(\"../event/Generated_data/match.csv\")\n",
    "\n",
    "# Get unique team values from the 'team' column\n",
    "unique_team = df['team'].unique()\n",
    "\n",
    "# Create a DataFrame with unique team values\n",
    "unique_team_df = pd.DataFrame(unique_team, columns=['team'])\n",
    "\n",
    "# Now, unique_team_df contains a DataFrame with unique team values"
   ]
  },
  {
   "cell_type": "code",
   "execution_count": 37,
   "id": "52740f91",
   "metadata": {},
   "outputs": [],
   "source": [
    "team_choices = [({row['team']}) for _, row in unique_team_df.iterrows()]"
   ]
  },
  {
   "cell_type": "code",
   "execution_count": 38,
   "id": "a87ff681",
   "metadata": {},
   "outputs": [
    {
     "data": {
      "text/html": [
       "<div>\n",
       "<style scoped>\n",
       "    .dataframe tbody tr th:only-of-type {\n",
       "        vertical-align: middle;\n",
       "    }\n",
       "\n",
       "    .dataframe tbody tr th {\n",
       "        vertical-align: top;\n",
       "    }\n",
       "\n",
       "    .dataframe thead th {\n",
       "        text-align: right;\n",
       "    }\n",
       "</style>\n",
       "<table border=\"1\" class=\"dataframe\">\n",
       "  <thead>\n",
       "    <tr style=\"text-align: right;\">\n",
       "      <th></th>\n",
       "      <th>team</th>\n",
       "    </tr>\n",
       "  </thead>\n",
       "  <tbody>\n",
       "    <tr>\n",
       "      <th>0</th>\n",
       "      <td>Argentina</td>\n",
       "    </tr>\n",
       "    <tr>\n",
       "      <th>1</th>\n",
       "      <td>France</td>\n",
       "    </tr>\n",
       "  </tbody>\n",
       "</table>\n",
       "</div>"
      ],
      "text/plain": [
       "        team\n",
       "0  Argentina\n",
       "1     France"
      ]
     },
     "execution_count": 38,
     "metadata": {},
     "output_type": "execute_result"
    }
   ],
   "source": [
    "unique_team_df"
   ]
  },
  {
   "cell_type": "code",
   "execution_count": 32,
   "id": "ec932949",
   "metadata": {},
   "outputs": [
    {
     "data": {
      "text/plain": [
       "[{'Argentina'}, {'France'}]"
      ]
     },
     "execution_count": 32,
     "metadata": {},
     "output_type": "execute_result"
    }
   ],
   "source": [
    "team_choices"
   ]
  },
  {
   "cell_type": "code",
   "execution_count": 43,
   "id": "13f0ee53",
   "metadata": {},
   "outputs": [],
   "source": [
    "unique_team = df['team'].unique()\n",
    "unique_team_df = pd.DataFrame(unique_team, columns=['team'])\n",
    "team_choices = [(row['team']) for _, row in unique_team_df.iterrows()]\n"
   ]
  },
  {
   "cell_type": "code",
   "execution_count": 44,
   "id": "19793357",
   "metadata": {},
   "outputs": [
    {
     "data": {
      "text/plain": [
       "['Argentina', 'France']"
      ]
     },
     "execution_count": 44,
     "metadata": {},
     "output_type": "execute_result"
    }
   ],
   "source": [
    "team_choices"
   ]
  },
  {
   "cell_type": "code",
   "execution_count": 41,
   "id": "d2d1a1cc",
   "metadata": {},
   "outputs": [],
   "source": [
    "unique_players = df[['player', 'team']].drop_duplicates()\n",
    "player_choices = [(row['player'], f\"{row['player']} ({row['team']})\") for _, row in unique_players.iterrows()]\n"
   ]
  },
  {
   "cell_type": "code",
   "execution_count": 42,
   "id": "95c182ef",
   "metadata": {},
   "outputs": [
    {
     "data": {
      "text/plain": [
       "[(nan, 'nan (Argentina)'),\n",
       " (nan, 'nan (France)'),\n",
       " ('Antoine Griezmann', 'Antoine Griezmann (France)'),\n",
       " ('Aurélien Djani Tchouaméni', 'Aurélien Djani Tchouaméni (France)'),\n",
       " ('Nahuel Molina Lucero', 'Nahuel Molina Lucero (Argentina)'),\n",
       " ('Rodrigo Javier De Paul', 'Rodrigo Javier De Paul (Argentina)'),\n",
       " ('Cristian Gabriel Romero', 'Cristian Gabriel Romero (Argentina)'),\n",
       " ('Nicolás Hernán Otamendi', 'Nicolás Hernán Otamendi (Argentina)'),\n",
       " ('Nicolás Alejandro Tagliafico', 'Nicolás Alejandro Tagliafico (Argentina)'),\n",
       " ('Damián Emiliano Martínez', 'Damián Emiliano Martínez (Argentina)'),\n",
       " ('Theo Bernard François Hernández',\n",
       "  'Theo Bernard François Hernández (France)'),\n",
       " ('Adrien Rabiot', 'Adrien Rabiot (France)'),\n",
       " ('Raphaël Varane', 'Raphaël Varane (France)'),\n",
       " ('Jules Koundé', 'Jules Koundé (France)'),\n",
       " ('Alexis Mac Allister', 'Alexis Mac Allister (Argentina)'),\n",
       " ('Lionel Andrés Messi Cuccittini',\n",
       "  'Lionel Andrés Messi Cuccittini (Argentina)'),\n",
       " ('Ángel Fabián Di María Hernández',\n",
       "  'Ángel Fabián Di María Hernández (Argentina)'),\n",
       " ('Hugo Lloris', 'Hugo Lloris (France)'),\n",
       " ('Olivier Giroud', 'Olivier Giroud (France)'),\n",
       " ('Enzo Fernandez', 'Enzo Fernandez (Argentina)'),\n",
       " ('Kylian Mbappé Lottin', 'Kylian Mbappé Lottin (France)'),\n",
       " ('Ousmane Dembélé', 'Ousmane Dembélé (France)'),\n",
       " ('Julián Álvarez', 'Julián Álvarez (Argentina)'),\n",
       " ('Dayotchanculle Upamecano', 'Dayotchanculle Upamecano (France)'),\n",
       " ('Randal Kolo Muani', 'Randal Kolo Muani (France)'),\n",
       " ('Marcus Thuram', 'Marcus Thuram (France)'),\n",
       " ('Marcos Javier Acuña', 'Marcos Javier Acuña (Argentina)'),\n",
       " ('Eduardo Camavinga', 'Eduardo Camavinga (France)'),\n",
       " ('Kingsley Coman', 'Kingsley Coman (France)'),\n",
       " ('Gonzalo Ariel Montiel', 'Gonzalo Ariel Montiel (Argentina)'),\n",
       " ('Youssouf Fofana', 'Youssouf Fofana (France)'),\n",
       " ('Leandro Daniel Paredes', 'Leandro Daniel Paredes (Argentina)'),\n",
       " ('Lautaro Javier Martínez', 'Lautaro Javier Martínez (Argentina)'),\n",
       " ('Ibrahima Konaté', 'Ibrahima Konaté (France)'),\n",
       " ('Paulo Bruno Exequiel Dybala', 'Paulo Bruno Exequiel Dybala (Argentina)'),\n",
       " ('Germán Alejandro Pezzella', 'Germán Alejandro Pezzella (Argentina)')]"
      ]
     },
     "execution_count": 42,
     "metadata": {},
     "output_type": "execute_result"
    }
   ],
   "source": [
    "player_choices"
   ]
  },
  {
   "cell_type": "code",
   "execution_count": 45,
   "id": "a8b450ef",
   "metadata": {},
   "outputs": [
    {
     "data": {
      "text/plain": [
       "0         Starting XI\n",
       "1         Starting XI\n",
       "2          Half Start\n",
       "3          Half Start\n",
       "4          Half Start\n",
       "            ...      \n",
       "4402         Half End\n",
       "4403         Half End\n",
       "4404         Half End\n",
       "4405    Bad Behaviour\n",
       "4406    Bad Behaviour\n",
       "Name: type, Length: 4407, dtype: object"
      ]
     },
     "execution_count": 45,
     "metadata": {},
     "output_type": "execute_result"
    }
   ],
   "source": [
    "df.type"
   ]
  },
  {
   "cell_type": "code",
   "execution_count": null,
   "id": "c070620d",
   "metadata": {},
   "outputs": [],
   "source": []
  }
 ],
 "metadata": {
  "kernelspec": {
   "display_name": "Python 3 (ipykernel)",
   "language": "python",
   "name": "python3"
  },
  "language_info": {
   "codemirror_mode": {
    "name": "ipython",
    "version": 3
   },
   "file_extension": ".py",
   "mimetype": "text/x-python",
   "name": "python",
   "nbconvert_exporter": "python",
   "pygments_lexer": "ipython3",
   "version": "3.11.5"
  }
 },
 "nbformat": 4,
 "nbformat_minor": 5
}
