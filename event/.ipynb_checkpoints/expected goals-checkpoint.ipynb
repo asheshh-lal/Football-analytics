{
 "cells": [
  {
   "cell_type": "code",
   "execution_count": 2,
   "id": "e0e0c37d",
   "metadata": {},
   "outputs": [],
   "source": [
    "import pandas as pd\n",
    "import numpy as np\n",
    "import json\n",
    "# plotting\n",
    "import matplotlib.pyplot as plt\n",
    "#opening data\n",
    "import os\n",
    "import pathlib\n",
    "import warnings\n",
    "#used for plots\n",
    "from mplsoccer import Pitch\n",
    "from scipy.stats import binned_statistic_2d\n",
    "import statsbombpy as sb"
   ]
  },
  {
   "cell_type": "code",
   "execution_count": null,
   "id": "1ecc4d74",
   "metadata": {},
   "outputs": [],
   "source": []
  }
 ],
 "metadata": {
  "kernelspec": {
   "display_name": "Python 3 (ipykernel)",
   "language": "python",
   "name": "python3"
  },
  "language_info": {
   "codemirror_mode": {
    "name": "ipython",
    "version": 3
   },
   "file_extension": ".py",
   "mimetype": "text/x-python",
   "name": "python",
   "nbconvert_exporter": "python",
   "pygments_lexer": "ipython3",
   "version": "3.11.5"
  }
 },
 "nbformat": 4,
 "nbformat_minor": 5
}
